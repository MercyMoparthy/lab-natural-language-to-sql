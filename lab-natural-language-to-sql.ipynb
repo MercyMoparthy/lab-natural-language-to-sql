{
  "cells": [
    {
      "cell_type": "markdown",
      "metadata": {
        "id": "1yFnrczEWDMm"
      },
      "source": [
        "# Natural language to SQL\n",
        "\n",
        "**Run in [Google Colab](https://colab.research.google.com/) For GPU.**\n",
        "\n",
        "This model have  Mistral as a base and it has been fine-tuned to excel in SQL code generation."
      ]
    },
    {
      "cell_type": "code",
      "execution_count": 46,
      "metadata": {
        "id": "kwUhBRwaLVZI"
      },
      "outputs": [],
      "source": [
        "from google.colab import userdata\n",
        "import os\n",
        "os.environ[\"HF_TOKEN\"]=userdata.get('HF_TOKEN')"
      ]
    },
    {
      "cell_type": "code",
      "execution_count": 47,
      "metadata": {
        "colab": {
          "base_uri": "https://localhost:8080/"
        },
        "id": "8VNBGXh9V952",
        "outputId": "8d900ed3-89ca-45c0-b3b1-da591405b411",
        "tags": []
      },
      "outputs": [
        {
          "output_type": "stream",
          "name": "stdout",
          "text": [
            "  Installing build dependencies ... \u001b[?25l\u001b[?25hdone\n",
            "  Getting requirements to build wheel ... \u001b[?25l\u001b[?25hdone\n",
            "  Preparing metadata (pyproject.toml) ... \u001b[?25l\u001b[?25hdone\n",
            "Collecting git+https://github.com/huggingface/accelerate.git\n",
            "  Cloning https://github.com/huggingface/accelerate.git to /tmp/pip-req-build-33328w7o\n",
            "  Running command git clone --filter=blob:none --quiet https://github.com/huggingface/accelerate.git /tmp/pip-req-build-33328w7o\n",
            "  Resolved https://github.com/huggingface/accelerate.git to commit 5987d79a538d2270deea1778e5625e869c4936b8\n",
            "  Installing build dependencies ... \u001b[?25l\u001b[?25hdone\n",
            "  Getting requirements to build wheel ... \u001b[?25l\u001b[?25hdone\n",
            "  Preparing metadata (pyproject.toml) ... \u001b[?25l\u001b[?25hdone\n",
            "Requirement already satisfied: numpy<3.0.0,>=1.17 in /usr/local/lib/python3.11/dist-packages (from accelerate==1.9.0.dev0) (2.0.2)\n",
            "Requirement already satisfied: packaging>=20.0 in /usr/local/lib/python3.11/dist-packages (from accelerate==1.9.0.dev0) (24.2)\n",
            "Requirement already satisfied: psutil in /usr/local/lib/python3.11/dist-packages (from accelerate==1.9.0.dev0) (5.9.5)\n",
            "Requirement already satisfied: pyyaml in /usr/local/lib/python3.11/dist-packages (from accelerate==1.9.0.dev0) (6.0.2)\n",
            "Requirement already satisfied: torch>=2.0.0 in /usr/local/lib/python3.11/dist-packages (from accelerate==1.9.0.dev0) (2.6.0+cu124)\n",
            "Requirement already satisfied: huggingface_hub>=0.21.0 in /usr/local/lib/python3.11/dist-packages (from accelerate==1.9.0.dev0) (0.33.0)\n",
            "Requirement already satisfied: safetensors>=0.4.3 in /usr/local/lib/python3.11/dist-packages (from accelerate==1.9.0.dev0) (0.5.3)\n",
            "Requirement already satisfied: filelock in /usr/local/lib/python3.11/dist-packages (from huggingface_hub>=0.21.0->accelerate==1.9.0.dev0) (3.18.0)\n",
            "Requirement already satisfied: fsspec>=2023.5.0 in /usr/local/lib/python3.11/dist-packages (from huggingface_hub>=0.21.0->accelerate==1.9.0.dev0) (2025.3.2)\n",
            "Requirement already satisfied: requests in /usr/local/lib/python3.11/dist-packages (from huggingface_hub>=0.21.0->accelerate==1.9.0.dev0) (2.32.3)\n",
            "Requirement already satisfied: tqdm>=4.42.1 in /usr/local/lib/python3.11/dist-packages (from huggingface_hub>=0.21.0->accelerate==1.9.0.dev0) (4.67.1)\n",
            "Requirement already satisfied: typing-extensions>=3.7.4.3 in /usr/local/lib/python3.11/dist-packages (from huggingface_hub>=0.21.0->accelerate==1.9.0.dev0) (4.14.0)\n",
            "Requirement already satisfied: hf-xet<2.0.0,>=1.1.2 in /usr/local/lib/python3.11/dist-packages (from huggingface_hub>=0.21.0->accelerate==1.9.0.dev0) (1.1.3)\n",
            "Requirement already satisfied: networkx in /usr/local/lib/python3.11/dist-packages (from torch>=2.0.0->accelerate==1.9.0.dev0) (3.5)\n",
            "Requirement already satisfied: jinja2 in /usr/local/lib/python3.11/dist-packages (from torch>=2.0.0->accelerate==1.9.0.dev0) (3.1.6)\n",
            "Requirement already satisfied: nvidia-cuda-nvrtc-cu12==12.4.127 in /usr/local/lib/python3.11/dist-packages (from torch>=2.0.0->accelerate==1.9.0.dev0) (12.4.127)\n",
            "Requirement already satisfied: nvidia-cuda-runtime-cu12==12.4.127 in /usr/local/lib/python3.11/dist-packages (from torch>=2.0.0->accelerate==1.9.0.dev0) (12.4.127)\n",
            "Requirement already satisfied: nvidia-cuda-cupti-cu12==12.4.127 in /usr/local/lib/python3.11/dist-packages (from torch>=2.0.0->accelerate==1.9.0.dev0) (12.4.127)\n",
            "Requirement already satisfied: nvidia-cudnn-cu12==9.1.0.70 in /usr/local/lib/python3.11/dist-packages (from torch>=2.0.0->accelerate==1.9.0.dev0) (9.1.0.70)\n",
            "Requirement already satisfied: nvidia-cublas-cu12==12.4.5.8 in /usr/local/lib/python3.11/dist-packages (from torch>=2.0.0->accelerate==1.9.0.dev0) (12.4.5.8)\n",
            "Requirement already satisfied: nvidia-cufft-cu12==11.2.1.3 in /usr/local/lib/python3.11/dist-packages (from torch>=2.0.0->accelerate==1.9.0.dev0) (11.2.1.3)\n",
            "Requirement already satisfied: nvidia-curand-cu12==10.3.5.147 in /usr/local/lib/python3.11/dist-packages (from torch>=2.0.0->accelerate==1.9.0.dev0) (10.3.5.147)\n",
            "Requirement already satisfied: nvidia-cusolver-cu12==11.6.1.9 in /usr/local/lib/python3.11/dist-packages (from torch>=2.0.0->accelerate==1.9.0.dev0) (11.6.1.9)\n",
            "Requirement already satisfied: nvidia-cusparse-cu12==12.3.1.170 in /usr/local/lib/python3.11/dist-packages (from torch>=2.0.0->accelerate==1.9.0.dev0) (12.3.1.170)\n",
            "Requirement already satisfied: nvidia-cusparselt-cu12==0.6.2 in /usr/local/lib/python3.11/dist-packages (from torch>=2.0.0->accelerate==1.9.0.dev0) (0.6.2)\n",
            "Requirement already satisfied: nvidia-nccl-cu12==2.21.5 in /usr/local/lib/python3.11/dist-packages (from torch>=2.0.0->accelerate==1.9.0.dev0) (2.21.5)\n",
            "Requirement already satisfied: nvidia-nvtx-cu12==12.4.127 in /usr/local/lib/python3.11/dist-packages (from torch>=2.0.0->accelerate==1.9.0.dev0) (12.4.127)\n",
            "Requirement already satisfied: nvidia-nvjitlink-cu12==12.4.127 in /usr/local/lib/python3.11/dist-packages (from torch>=2.0.0->accelerate==1.9.0.dev0) (12.4.127)\n",
            "Requirement already satisfied: triton==3.2.0 in /usr/local/lib/python3.11/dist-packages (from torch>=2.0.0->accelerate==1.9.0.dev0) (3.2.0)\n",
            "Requirement already satisfied: sympy==1.13.1 in /usr/local/lib/python3.11/dist-packages (from torch>=2.0.0->accelerate==1.9.0.dev0) (1.13.1)\n",
            "Requirement already satisfied: mpmath<1.4,>=1.1.0 in /usr/local/lib/python3.11/dist-packages (from sympy==1.13.1->torch>=2.0.0->accelerate==1.9.0.dev0) (1.3.0)\n",
            "Requirement already satisfied: MarkupSafe>=2.0 in /usr/local/lib/python3.11/dist-packages (from jinja2->torch>=2.0.0->accelerate==1.9.0.dev0) (3.0.2)\n",
            "Requirement already satisfied: charset-normalizer<4,>=2 in /usr/local/lib/python3.11/dist-packages (from requests->huggingface_hub>=0.21.0->accelerate==1.9.0.dev0) (3.4.2)\n",
            "Requirement already satisfied: idna<4,>=2.5 in /usr/local/lib/python3.11/dist-packages (from requests->huggingface_hub>=0.21.0->accelerate==1.9.0.dev0) (3.10)\n",
            "Requirement already satisfied: urllib3<3,>=1.21.1 in /usr/local/lib/python3.11/dist-packages (from requests->huggingface_hub>=0.21.0->accelerate==1.9.0.dev0) (2.4.0)\n",
            "Requirement already satisfied: certifi>=2017.4.17 in /usr/local/lib/python3.11/dist-packages (from requests->huggingface_hub>=0.21.0->accelerate==1.9.0.dev0) (2025.6.15)\n",
            "Collecting git+https://github.com/huggingface/transformers.git\n",
            "  Cloning https://github.com/huggingface/transformers.git to /tmp/pip-req-build-ljf1_uoi\n",
            "  Running command git clone --filter=blob:none --quiet https://github.com/huggingface/transformers.git /tmp/pip-req-build-ljf1_uoi\n",
            "  Resolved https://github.com/huggingface/transformers.git to commit f9be71b34d5efbba50bc787848c6e421822b14ba\n",
            "  Installing build dependencies ... \u001b[?25l\u001b[?25hdone\n",
            "  Getting requirements to build wheel ... \u001b[?25l\u001b[?25hdone\n",
            "  Preparing metadata (pyproject.toml) ... \u001b[?25l\u001b[?25hdone\n",
            "Requirement already satisfied: filelock in /usr/local/lib/python3.11/dist-packages (from transformers==4.53.0.dev0) (3.18.0)\n",
            "Requirement already satisfied: huggingface-hub<1.0,>=0.30.0 in /usr/local/lib/python3.11/dist-packages (from transformers==4.53.0.dev0) (0.33.0)\n",
            "Requirement already satisfied: numpy>=1.17 in /usr/local/lib/python3.11/dist-packages (from transformers==4.53.0.dev0) (2.0.2)\n",
            "Requirement already satisfied: packaging>=20.0 in /usr/local/lib/python3.11/dist-packages (from transformers==4.53.0.dev0) (24.2)\n",
            "Requirement already satisfied: pyyaml>=5.1 in /usr/local/lib/python3.11/dist-packages (from transformers==4.53.0.dev0) (6.0.2)\n",
            "Requirement already satisfied: regex!=2019.12.17 in /usr/local/lib/python3.11/dist-packages (from transformers==4.53.0.dev0) (2024.11.6)\n",
            "Requirement already satisfied: requests in /usr/local/lib/python3.11/dist-packages (from transformers==4.53.0.dev0) (2.32.3)\n",
            "Requirement already satisfied: tokenizers<0.22,>=0.21 in /usr/local/lib/python3.11/dist-packages (from transformers==4.53.0.dev0) (0.21.1)\n",
            "Requirement already satisfied: safetensors>=0.4.3 in /usr/local/lib/python3.11/dist-packages (from transformers==4.53.0.dev0) (0.5.3)\n",
            "Requirement already satisfied: tqdm>=4.27 in /usr/local/lib/python3.11/dist-packages (from transformers==4.53.0.dev0) (4.67.1)\n",
            "Requirement already satisfied: fsspec>=2023.5.0 in /usr/local/lib/python3.11/dist-packages (from huggingface-hub<1.0,>=0.30.0->transformers==4.53.0.dev0) (2025.3.2)\n",
            "Requirement already satisfied: typing-extensions>=3.7.4.3 in /usr/local/lib/python3.11/dist-packages (from huggingface-hub<1.0,>=0.30.0->transformers==4.53.0.dev0) (4.14.0)\n",
            "Requirement already satisfied: hf-xet<2.0.0,>=1.1.2 in /usr/local/lib/python3.11/dist-packages (from huggingface-hub<1.0,>=0.30.0->transformers==4.53.0.dev0) (1.1.3)\n",
            "Requirement already satisfied: charset-normalizer<4,>=2 in /usr/local/lib/python3.11/dist-packages (from requests->transformers==4.53.0.dev0) (3.4.2)\n",
            "Requirement already satisfied: idna<4,>=2.5 in /usr/local/lib/python3.11/dist-packages (from requests->transformers==4.53.0.dev0) (3.10)\n",
            "Requirement already satisfied: urllib3<3,>=1.21.1 in /usr/local/lib/python3.11/dist-packages (from requests->transformers==4.53.0.dev0) (2.4.0)\n",
            "Requirement already satisfied: certifi>=2017.4.17 in /usr/local/lib/python3.11/dist-packages (from requests->transformers==4.53.0.dev0) (2025.6.15)\n",
            "Requirement already satisfied: bitsandbytes in /usr/local/lib/python3.11/dist-packages (0.46.0)\n",
            "Requirement already satisfied: torch<3,>=2.2 in /usr/local/lib/python3.11/dist-packages (from bitsandbytes) (2.6.0+cu124)\n",
            "Requirement already satisfied: numpy>=1.17 in /usr/local/lib/python3.11/dist-packages (from bitsandbytes) (2.0.2)\n",
            "Requirement already satisfied: filelock in /usr/local/lib/python3.11/dist-packages (from torch<3,>=2.2->bitsandbytes) (3.18.0)\n",
            "Requirement already satisfied: typing-extensions>=4.10.0 in /usr/local/lib/python3.11/dist-packages (from torch<3,>=2.2->bitsandbytes) (4.14.0)\n",
            "Requirement already satisfied: networkx in /usr/local/lib/python3.11/dist-packages (from torch<3,>=2.2->bitsandbytes) (3.5)\n",
            "Requirement already satisfied: jinja2 in /usr/local/lib/python3.11/dist-packages (from torch<3,>=2.2->bitsandbytes) (3.1.6)\n",
            "Requirement already satisfied: fsspec in /usr/local/lib/python3.11/dist-packages (from torch<3,>=2.2->bitsandbytes) (2025.3.2)\n",
            "Requirement already satisfied: nvidia-cuda-nvrtc-cu12==12.4.127 in /usr/local/lib/python3.11/dist-packages (from torch<3,>=2.2->bitsandbytes) (12.4.127)\n",
            "Requirement already satisfied: nvidia-cuda-runtime-cu12==12.4.127 in /usr/local/lib/python3.11/dist-packages (from torch<3,>=2.2->bitsandbytes) (12.4.127)\n",
            "Requirement already satisfied: nvidia-cuda-cupti-cu12==12.4.127 in /usr/local/lib/python3.11/dist-packages (from torch<3,>=2.2->bitsandbytes) (12.4.127)\n",
            "Requirement already satisfied: nvidia-cudnn-cu12==9.1.0.70 in /usr/local/lib/python3.11/dist-packages (from torch<3,>=2.2->bitsandbytes) (9.1.0.70)\n",
            "Requirement already satisfied: nvidia-cublas-cu12==12.4.5.8 in /usr/local/lib/python3.11/dist-packages (from torch<3,>=2.2->bitsandbytes) (12.4.5.8)\n",
            "Requirement already satisfied: nvidia-cufft-cu12==11.2.1.3 in /usr/local/lib/python3.11/dist-packages (from torch<3,>=2.2->bitsandbytes) (11.2.1.3)\n",
            "Requirement already satisfied: nvidia-curand-cu12==10.3.5.147 in /usr/local/lib/python3.11/dist-packages (from torch<3,>=2.2->bitsandbytes) (10.3.5.147)\n",
            "Requirement already satisfied: nvidia-cusolver-cu12==11.6.1.9 in /usr/local/lib/python3.11/dist-packages (from torch<3,>=2.2->bitsandbytes) (11.6.1.9)\n",
            "Requirement already satisfied: nvidia-cusparse-cu12==12.3.1.170 in /usr/local/lib/python3.11/dist-packages (from torch<3,>=2.2->bitsandbytes) (12.3.1.170)\n",
            "Requirement already satisfied: nvidia-cusparselt-cu12==0.6.2 in /usr/local/lib/python3.11/dist-packages (from torch<3,>=2.2->bitsandbytes) (0.6.2)\n",
            "Requirement already satisfied: nvidia-nccl-cu12==2.21.5 in /usr/local/lib/python3.11/dist-packages (from torch<3,>=2.2->bitsandbytes) (2.21.5)\n",
            "Requirement already satisfied: nvidia-nvtx-cu12==12.4.127 in /usr/local/lib/python3.11/dist-packages (from torch<3,>=2.2->bitsandbytes) (12.4.127)\n",
            "Requirement already satisfied: nvidia-nvjitlink-cu12==12.4.127 in /usr/local/lib/python3.11/dist-packages (from torch<3,>=2.2->bitsandbytes) (12.4.127)\n",
            "Requirement already satisfied: triton==3.2.0 in /usr/local/lib/python3.11/dist-packages (from torch<3,>=2.2->bitsandbytes) (3.2.0)\n",
            "Requirement already satisfied: sympy==1.13.1 in /usr/local/lib/python3.11/dist-packages (from torch<3,>=2.2->bitsandbytes) (1.13.1)\n",
            "Requirement already satisfied: mpmath<1.4,>=1.1.0 in /usr/local/lib/python3.11/dist-packages (from sympy==1.13.1->torch<3,>=2.2->bitsandbytes) (1.3.0)\n",
            "Requirement already satisfied: MarkupSafe>=2.0 in /usr/local/lib/python3.11/dist-packages (from jinja2->torch<3,>=2.2->bitsandbytes) (3.0.2)\n"
          ]
        }
      ],
      "source": [
        "#Install the lastest versions of peft & transformers library recommended\n",
        "#if you want to work with the most recent models\n",
        "!pip install -q git+https://github.com/huggingface/peft.git\n",
        "!pip install git+https://github.com/huggingface/accelerate.git\n",
        "!pip install git+https://github.com/huggingface/transformers.git\n",
        "!pip install bitsandbytes"
      ]
    },
    {
      "cell_type": "code",
      "execution_count": 48,
      "metadata": {
        "id": "U1mZ27vbXBCE",
        "tags": []
      },
      "outputs": [],
      "source": [
        "from transformers import AutoModelForCausalLM, AutoTokenizer, BitsAndBytesConfig\n",
        "import torch\n",
        "import accelerate"
      ]
    },
    {
      "cell_type": "code",
      "execution_count": 49,
      "metadata": {
        "id": "rotsX3i-XLJS",
        "tags": []
      },
      "outputs": [],
      "source": [
        "model_name = \"defog/sqlcoder-7b\""
      ]
    },
    {
      "cell_type": "markdown",
      "metadata": {
        "id": "2fHZsPTa5yun"
      },
      "source": [
        "We need to create the Quantization configuration to load the Model.\n",
        "\n",
        "It is a large model and I want it to fit in a 16GB GPU, I'm going to use a 4 bits quantization.\n",
        "\n",
        "If you want to learn more about quantization, refer to this article: [QLoRA: Training a Large Language Model on a 16GB GPU.](https://medium.com/towards-artificial-intelligence/qlora-training-a-large-language-model-on-a-16gb-gpu-00ea965667c1)\n",
        "\n",
        "You can try to use this model in a 8 bit quantizations and check in you see any improvements in the results."
      ]
    },
    {
      "cell_type": "code",
      "execution_count": 50,
      "metadata": {
        "id": "Oio2Fm7GXa6K",
        "tags": []
      },
      "outputs": [],
      "source": [
        "bnb_config = BitsAndBytesConfig(\n",
        "  load_in_4bit=True,\n",
        "  bnb_4bit_use_double_quant=True,\n",
        "  bnb_4bit_quant_type=\"nf4\",\n",
        "  bnb_4bit_compute_dtype=torch.bfloat16\n",
        ")\n"
      ]
    },
    {
      "cell_type": "markdown",
      "metadata": {
        "id": "915oTn7T6fvW"
      },
      "source": [
        "To load the model I pass to the AutoModelForCasualLM teh quantization configurations, and HuggingFace take care of all the hard work."
      ]
    },
    {
      "cell_type": "code",
      "execution_count": 51,
      "metadata": {
        "colab": {
          "base_uri": "https://localhost:8080/",
          "height": 49,
          "referenced_widgets": [
            "27acfc8591bf4710940b99dc7c35ff01",
            "66d04b1facbc4eaaba1de6b37a2d5043",
            "d6d40c1df8594de68d72adc35ef8a269",
            "22aa9e1a6c124b33a4b2bb8c76acbb5a",
            "a97b9b23e17543619aa0a464b898db9b",
            "e106337cb422401f99414dfe830ce061",
            "ae40a57241214d31a525a5fba7c28544",
            "58f5377cd65d44508c0030ee7e172433",
            "aaa25b19b74f4ac8bef64c6987089cd4",
            "3b254ddc6fe04116a5be43acc95b6e47",
            "80f96f6ca0174269b22872fb0e45df36"
          ]
        },
        "id": "Q8-VpiCBXcst",
        "outputId": "2ba98eb3-0f29-4f01-fb5e-9c44067c158b",
        "tags": []
      },
      "outputs": [
        {
          "output_type": "display_data",
          "data": {
            "text/plain": [
              "Loading checkpoint shards:   0%|          | 0/2 [00:00<?, ?it/s]"
            ],
            "application/vnd.jupyter.widget-view+json": {
              "version_major": 2,
              "version_minor": 0,
              "model_id": "27acfc8591bf4710940b99dc7c35ff01"
            }
          },
          "metadata": {}
        }
      ],
      "source": [
        "foundation_model = AutoModelForCausalLM.from_pretrained(model_name,\n",
        "                    quantization_config=bnb_config,\n",
        "                    device_map='auto',\n",
        "                    use_cache = True)"
      ]
    },
    {
      "cell_type": "code",
      "execution_count": 52,
      "metadata": {
        "id": "E2Oz6Sm8X5Qo",
        "tags": []
      },
      "outputs": [],
      "source": [
        "tokenizer = AutoTokenizer.from_pretrained(model_name)\n",
        "eos_token_id = tokenizer.convert_tokens_to_ids([\"```\"])[0]"
      ]
    },
    {
      "cell_type": "markdown",
      "metadata": {
        "id": "NV-Qk6327Z30"
      },
      "source": [
        "This function wraps the call to *model.generate*"
      ]
    },
    {
      "cell_type": "code",
      "execution_count": 53,
      "metadata": {
        "id": "l4vEDNRGtvdn"
      },
      "outputs": [],
      "source": [
        "#this function returns the outputs from the model received, and inputs.\n",
        "def get_outputs(model, inputs, max_new_tokens=400):\n",
        "    outputs = model.generate(\n",
        "        input_ids=inputs[\"input_ids\"],\n",
        "        attention_mask=inputs[\"attention_mask\"],\n",
        "        num_return_sequences=1,\n",
        "        eos_token_id=eos_token_id,\n",
        "        pad_token_id=eos_token_id,\n",
        "        max_new_tokens=max_new_tokens,\n",
        "        do_sample=False,\n",
        "        num_beams=5\n",
        "    )\n",
        "    return outputs"
      ]
    },
    {
      "cell_type": "markdown",
      "metadata": {
        "id": "y88PVExjKCvQ"
      },
      "source": [
        "# Prompt without Shots.\n",
        "In this first PROMPT we are going to give Instructions to the model and pass the structure of the Database.\n",
        "\n",
        "The instructions are significantly different from those we are passing to GPT-3.5-Turbo. This model is really well fine-tuned, but it is smaller than GPT-3.5.\n",
        "\n",
        "We need to be more clear with the instructions, as it does not have the same capacity to understand our orders as GPT-3.5."
      ]
    },
    {
      "cell_type": "code",
      "execution_count": 54,
      "metadata": {
        "id": "U8K4XWDQJH_p"
      },
      "outputs": [],
      "source": [
        "sp_nl2sql = \"\"\"\n",
        "    ### Instructions:\n",
        "Your task is convert a question into a SQL query, given a SQL database schema.\n",
        "Adhere to these rules:\n",
        "- **Deliberately go through the question and database schema word by word** to appropriately answer the question\n",
        "\n",
        "    ### Input\n",
        "    Generate a SQL query that answers the question below.\n",
        "    This query will run on a database whose schema is represented in this string:\n",
        "\n",
        "    CREATE TABLE employees (\n",
        "        ID_Usr INT PRIMARY KEY,\n",
        "        name VARCHAR(100),\n",
        "        department VARCHAR(50),\n",
        "        hire_date DATE,\n",
        "        email VARCHAR(100)\n",
        "    );\n",
        "\n",
        "    CREATE TABLE salary (\n",
        "        ID_salary INT PRIMARY KEY,\n",
        "        ID_Usr INT,\n",
        "        salary DECIMAL(10,2),\n",
        "        start_date DATE,\n",
        "        end_date DATE,\n",
        "        FOREIGN KEY (ID_Usr) REFERENCES employees(ID_Usr)\n",
        "    );\n",
        "\n",
        "    CREATE TABLE studies (\n",
        "        ID_study INT PRIMARY KEY,\n",
        "        ID_Usr INT,\n",
        "        degree VARCHAR(100),\n",
        "        university VARCHAR(100),\n",
        "        graduation_year INT,\n",
        "        FOREIGN KEY (ID_Usr) REFERENCES employees(ID_Usr)\n",
        "    );\n",
        "\n",
        "    ### Response\n",
        "    Based on your instructions, here is the SQL query I have generated to answer the question\n",
        "    `{question}`:\n",
        "    ```sql3\n",
        "    \"\"\""
      ]
    },
    {
      "cell_type": "code",
      "execution_count": 55,
      "metadata": {
        "colab": {
          "base_uri": "https://localhost:8080/"
        },
        "id": "tIgEZpmSlG0I",
        "outputId": "edb35369-3335-443b-c2a0-693a5c169c4a"
      },
      "outputs": [
        {
          "output_type": "stream",
          "name": "stdout",
          "text": [
            "\n",
            "    ### Instructions:\n",
            "Your task is convert a question into a SQL query, given a SQL database schema.\n",
            "Adhere to these rules:\n",
            "- **Deliberately go through the question and database schema word by word** to appropriately answer the question\n",
            "\n",
            "    ### Input\n",
            "    Generate a SQL query that answers the question below.\n",
            "    This query will run on a database whose schema is represented in this string:\n",
            "\n",
            "    CREATE TABLE employees (\n",
            "        ID_Usr INT PRIMARY KEY,\n",
            "        name VARCHAR(100),\n",
            "        department VARCHAR(50),\n",
            "        hire_date DATE,\n",
            "        email VARCHAR(100)\n",
            "    );\n",
            "\n",
            "    CREATE TABLE salary (\n",
            "        ID_salary INT PRIMARY KEY,\n",
            "        ID_Usr INT,\n",
            "        salary DECIMAL(10,2),\n",
            "        start_date DATE,\n",
            "        end_date DATE,\n",
            "        FOREIGN KEY (ID_Usr) REFERENCES employees(ID_Usr)\n",
            "    );\n",
            "\n",
            "    CREATE TABLE studies (\n",
            "        ID_study INT PRIMARY KEY,\n",
            "        ID_Usr INT,\n",
            "        degree VARCHAR(100),\n",
            "        university VARCHAR(100),\n",
            "        graduation_year INT,\n",
            "        FOREIGN KEY (ID_Usr) REFERENCES employees(ID_Usr)\n",
            "    );\n",
            "\n",
            "    ### Response\n",
            "    Based on your instructions, here is the SQL query I have generated to answer the question\n",
            "    `What are the names of all employees in the Engineering department?`:\n",
            "    ```sql3\n",
            "    \n"
          ]
        }
      ],
      "source": [
        "sp_nl2sql = sp_nl2sql.format(question=\"What are the names of all employees in the Engineering department?\")\n",
        "print(sp_nl2sql)"
      ]
    },
    {
      "cell_type": "code",
      "execution_count": 56,
      "metadata": {
        "id": "Mp3TDRQtltX9"
      },
      "outputs": [],
      "source": [
        "input_sentences = tokenizer(sp_nl2sql, return_tensors=\"pt\").to('cuda')\n",
        "response = get_outputs(foundation_model, input_sentences, max_new_tokens=400)\n",
        "SQL = tokenizer.batch_decode(response, skip_special_tokens=True)"
      ]
    },
    {
      "cell_type": "code",
      "execution_count": 57,
      "metadata": {
        "id": "hWouSh-7rpCk"
      },
      "outputs": [],
      "source": [
        "#Empty the cache in orde to do more calls without problems.\n",
        "torch.cuda.empty_cache()"
      ]
    },
    {
      "cell_type": "code",
      "execution_count": 58,
      "metadata": {
        "colab": {
          "base_uri": "https://localhost:8080/"
        },
        "id": "g0V5XuDp0sCi",
        "outputId": "4bb9eb24-d90a-4850-beaf-b489e1a69de8"
      },
      "outputs": [
        {
          "output_type": "stream",
          "name": "stdout",
          "text": [
            "SELECT employees.name FROM employees WHERE employees.department ILIKE '%Engineering%' ORDER BY employees.name NULLS LAST;\n"
          ]
        }
      ],
      "source": [
        "print(SQL[0].split(\"```sql3\")[-1].split(\"```\")[0].split(\";\")[0].strip() + \";\")"
      ]
    },
    {
      "cell_type": "markdown",
      "metadata": {
        "id": "VKrjztcK-zDm"
      },
      "source": [
        "The SQL Order is correct."
      ]
    },
    {
      "cell_type": "markdown",
      "metadata": {
        "id": "d0hogn4fKP1f"
      },
      "source": [
        "#Prompt with shots OpenAI Style.\n",
        "In this second prompt we are going to add some Shots with samples to see if our SQL style affects the model."
      ]
    },
    {
      "cell_type": "code",
      "execution_count": 59,
      "metadata": {
        "id": "qNPXi3twuN7-"
      },
      "outputs": [],
      "source": [
        "sp_nl2sql2 = \"\"\"\n",
        "      ### Instructions:\n",
        "  Your task is convert a question into a SQL query, given a SQL database schema.\n",
        "  Adhere to these rules:\n",
        "  - **Deliberately go through the question and database schema word by word** to appropriately\n",
        "   answer the question\n",
        "  - **Use the samples SQL In the ### Samples section to learn more about the Databases\n",
        "  structure\n",
        "\n",
        "      ### Input\n",
        "      Generate a SQL query that answers the question below.\n",
        "      This query will run on a database whose schema is represented in this string:\n",
        "\n",
        "      CREATE TABLE employees (\n",
        "          ID_Usr INT PRIMARY KEY,\n",
        "          name VARCHAR(100),\n",
        "          department VARCHAR(50),\n",
        "          hire_date DATE,\n",
        "          email VARCHAR(100)\n",
        "      );\n",
        "\n",
        "      CREATE TABLE salary (\n",
        "          ID_salary INT PRIMARY KEY,\n",
        "          ID_Usr INT,\n",
        "          salary DECIMAL(10,2),\n",
        "          start_date DATE,\n",
        "          end_date DATE,\n",
        "          FOREIGN KEY (ID_Usr) REFERENCES employees(ID_Usr)\n",
        "      );\n",
        "\n",
        "      CREATE TABLE studies (\n",
        "          ID_study INT PRIMARY KEY,\n",
        "          ID_Usr INT,\n",
        "          degree VARCHAR(100),\n",
        "          university VARCHAR(100),\n",
        "          graduation_year INT,\n",
        "          FOREIGN KEY (ID_Usr) REFERENCES employees(ID_Usr)\n",
        "      );\n",
        "\n",
        "      ### Samples\n",
        "\n",
        "      Question: \"Who is the highest paid employee?\"\n",
        "      ```sql\n",
        "      SELECT e.name, s.salary\n",
        "      FROM employees e\n",
        "      JOIN salary s ON e.ID_Usr = s.ID_Usr\n",
        "      WHERE s.salary = (SELECT MAX(salary) FROM salary);\n",
        "      ```\n",
        "\n",
        "      Question: \"How many employees are in each department?\"\n",
        "      ```sql\n",
        "      SELECT department, COUNT(*) as employee_count\n",
        "      FROM employees\n",
        "      GROUP BY department;\n",
        "      ```\n",
        "\n",
        "      ### Response\n",
        "      Based on your instructions, here is the SQL query I have generated to answer the\n",
        "  question\n",
        "      `{question}`:\n",
        "      ```sql3\n",
        "      \"\"\"\n"
      ]
    },
    {
      "cell_type": "code",
      "execution_count": 60,
      "metadata": {
        "colab": {
          "base_uri": "https://localhost:8080/"
        },
        "id": "7vy338SDLr5u",
        "outputId": "a75ba883-fa5e-4afc-eb4a-ceaed94729e2"
      },
      "outputs": [
        {
          "output_type": "stream",
          "name": "stdout",
          "text": [
            "\n",
            "      ### Instructions:\n",
            "  Your task is convert a question into a SQL query, given a SQL database schema.\n",
            "  Adhere to these rules:\n",
            "  - **Deliberately go through the question and database schema word by word** to appropriately\n",
            "   answer the question\n",
            "  - **Use the samples SQL In the ### Samples section to learn more about the Databases \n",
            "  structure\n",
            "\n",
            "      ### Input\n",
            "      Generate a SQL query that answers the question below.\n",
            "      This query will run on a database whose schema is represented in this string:\n",
            "\n",
            "      CREATE TABLE employees (\n",
            "          ID_Usr INT PRIMARY KEY,\n",
            "          name VARCHAR(100),\n",
            "          department VARCHAR(50),\n",
            "          hire_date DATE,\n",
            "          email VARCHAR(100)\n",
            "      );\n",
            "\n",
            "      CREATE TABLE salary (\n",
            "          ID_salary INT PRIMARY KEY,\n",
            "          ID_Usr INT,\n",
            "          salary DECIMAL(10,2),\n",
            "          start_date DATE,\n",
            "          end_date DATE,\n",
            "          FOREIGN KEY (ID_Usr) REFERENCES employees(ID_Usr)\n",
            "      );\n",
            "\n",
            "      CREATE TABLE studies (\n",
            "          ID_study INT PRIMARY KEY,\n",
            "          ID_Usr INT,\n",
            "          degree VARCHAR(100),\n",
            "          university VARCHAR(100),\n",
            "          graduation_year INT,\n",
            "          FOREIGN KEY (ID_Usr) REFERENCES employees(ID_Usr)\n",
            "      );\n",
            "\n",
            "      ### Samples\n",
            "      \n",
            "      Question: \"Who is the highest paid employee?\"\n",
            "      ```sql\n",
            "      SELECT e.name, s.salary \n",
            "      FROM employees e \n",
            "      JOIN salary s ON e.ID_Usr = s.ID_Usr \n",
            "      WHERE s.salary = (SELECT MAX(salary) FROM salary);\n",
            "      ```\n",
            "      \n",
            "      Question: \"How many employees are in each department?\"\n",
            "      ```sql\n",
            "      SELECT department, COUNT(*) as employee_count \n",
            "      FROM employees \n",
            "      GROUP BY department;\n",
            "      ```\n",
            "\n",
            "      ### Response\n",
            "      Based on your instructions, here is the SQL query I have generated to answer the \n",
            "  question\n",
            "      `Return The name of the best paid employee`:\n",
            "      ```sql3\n",
            "      \n"
          ]
        }
      ],
      "source": [
        "sp_nl2sql2 = sp_nl2sql2.format(question=\"Return The name of the best paid employee\")\n",
        "(print(sp_nl2sql2))"
      ]
    },
    {
      "cell_type": "code",
      "execution_count": 61,
      "metadata": {
        "id": "Cvk9hJfhLwQJ"
      },
      "outputs": [],
      "source": [
        "input_sentences = tokenizer(sp_nl2sql2, return_tensors=\"pt\").to('cuda')\n",
        "response = get_outputs(foundation_model, input_sentences, max_new_tokens=400)\n",
        "SQL = tokenizer.batch_decode(response, skip_special_tokens=True)\n",
        "torch.cuda.empty_cache()"
      ]
    },
    {
      "cell_type": "code",
      "execution_count": 62,
      "metadata": {
        "colab": {
          "base_uri": "https://localhost:8080/"
        },
        "id": "EQOyi8ZOL1mr",
        "outputId": "a14174db-9df2-4e98-e969-1a1fdc9ae6fd"
      },
      "outputs": [
        {
          "output_type": "stream",
          "name": "stdout",
          "text": [
            "SELECT e.name, MAX(s.salary) AS max_salary \n",
            "       FROM employees e \n",
            "       JOIN salary s ON e.ID_Usr = s.ID_Usr \n",
            "       GROUP BY e.name \n",
            "       ORDER BY max_salary DESC NULLS LAST \n",
            "       LIMIT 1;\n"
          ]
        }
      ],
      "source": [
        "print(SQL[0].split(\"```sql3\")[-1].split(\"```\")[0].split(\";\")[0].strip() + \";\")"
      ]
    },
    {
      "cell_type": "markdown",
      "metadata": {
        "id": "buwuhLBw_MAV"
      },
      "source": [
        "The Order is really different from the one obtained with the first prompt.\n",
        "\n",
        "The first difference is the format. But The SQL is realy more simple, at least it is my sensation."
      ]
    },
    {
      "cell_type": "markdown",
      "metadata": {
        "id": "-6S6gI_fNtFk"
      },
      "source": [
        "#Prompt with Shots in Sample Style.\n",
        "\n",
        "In this prompt, we will place the examples in a separate section, and in the instructions, we will instruct the model to pay attention to them in order to generate the SQL commands."
      ]
    },
    {
      "cell_type": "code",
      "execution_count": 63,
      "metadata": {
        "id": "oHSF1l3xNscJ"
      },
      "outputs": [],
      "source": [
        "sp_nl2sql3b = \"\"\"\n",
        "      ### Instructions:\n",
        "  Your task is convert a question into a SQL query, given a SQL database schema.\n",
        "  Adhere to these rules:\n",
        "  - **Deliberately go through the question and database schema word by word** to appropriately\n",
        "   answer the question\n",
        "  - **Use the samples SQL In the ### Samples section to learn more about the Databases\n",
        "  structure\n",
        "\n",
        "      ### Input\n",
        "      Generate a SQL query that answers the question below.\n",
        "      This query will run on a database whose schema is represented in this string:\n",
        "\n",
        "      CREATE TABLE employees (\n",
        "          ID_Usr INT PRIMARY KEY,\n",
        "          name VARCHAR(100),\n",
        "          department VARCHAR(50),\n",
        "          hire_date DATE,\n",
        "          email VARCHAR(100)\n",
        "      );\n",
        "\n",
        "      CREATE TABLE salary (\n",
        "          ID_salary INT PRIMARY KEY,\n",
        "          ID_Usr INT,\n",
        "          salary DECIMAL(10,2),\n",
        "          start_date DATE,\n",
        "          end_date DATE,\n",
        "          FOREIGN KEY (ID_Usr) REFERENCES employees(ID_Usr)\n",
        "      );\n",
        "\n",
        "      CREATE TABLE studies (\n",
        "          ID_study INT PRIMARY KEY,\n",
        "          ID_Usr INT,\n",
        "          degree VARCHAR(100),\n",
        "          university VARCHAR(100),\n",
        "          graduation_year INT,\n",
        "          FOREIGN KEY (ID_Usr) REFERENCES employees(ID_Usr)\n",
        "      );\n",
        "\n",
        "      ### Samples\n",
        "\n",
        "      Question: \"Who is the highest paid employee?\"\n",
        "      ```sql\n",
        "      SELECT e.name, s.salary\n",
        "      FROM employees e\n",
        "      JOIN salary s ON e.ID_Usr = s.ID_Usr\n",
        "      WHERE s.salary = (SELECT MAX(salary) FROM salary);\n",
        "      ```\n",
        "\n",
        "      Question: \"How many employees are in each department?\"\n",
        "      ```sql\n",
        "      SELECT department, COUNT(*) as employee_count\n",
        "      FROM employees\n",
        "      GROUP BY department;\n",
        "      ```\n",
        "\n",
        "      Question: \"What degrees do employees have?\"\n",
        "      ```sql\n",
        "      SELECT e.name, st.degree, st.university\n",
        "      FROM employees e\n",
        "      JOIN studies st ON e.ID_Usr = st.ID_Usr;\n",
        "      ```\n",
        "\n",
        "      ### Response\n",
        "      Based on your instructions, here is the SQL query I have generated to answer the\n",
        "  question\n",
        "      `{question}`:\n",
        "      ```sql3\n",
        "      \"\"\"\n"
      ]
    },
    {
      "cell_type": "code",
      "execution_count": 64,
      "metadata": {
        "colab": {
          "base_uri": "https://localhost:8080/"
        },
        "id": "DCfbmvDyOS-u",
        "outputId": "995af292-11b8-409c-e550-04b4d3caf9cd"
      },
      "outputs": [
        {
          "output_type": "stream",
          "name": "stdout",
          "text": [
            "\n",
            "      ### Instructions:\n",
            "  Your task is convert a question into a SQL query, given a SQL database schema.\n",
            "  Adhere to these rules:\n",
            "  - **Deliberately go through the question and database schema word by word** to appropriately\n",
            "   answer the question\n",
            "  - **Use the samples SQL In the ### Samples section to learn more about the Databases \n",
            "  structure\n",
            "\n",
            "      ### Input\n",
            "      Generate a SQL query that answers the question below.\n",
            "      This query will run on a database whose schema is represented in this string:\n",
            "\n",
            "      CREATE TABLE employees (\n",
            "          ID_Usr INT PRIMARY KEY,\n",
            "          name VARCHAR(100),\n",
            "          department VARCHAR(50),\n",
            "          hire_date DATE,\n",
            "          email VARCHAR(100)\n",
            "      );\n",
            "\n",
            "      CREATE TABLE salary (\n",
            "          ID_salary INT PRIMARY KEY,\n",
            "          ID_Usr INT,\n",
            "          salary DECIMAL(10,2),\n",
            "          start_date DATE,\n",
            "          end_date DATE,\n",
            "          FOREIGN KEY (ID_Usr) REFERENCES employees(ID_Usr)\n",
            "      );\n",
            "\n",
            "      CREATE TABLE studies (\n",
            "          ID_study INT PRIMARY KEY,\n",
            "          ID_Usr INT,\n",
            "          degree VARCHAR(100),\n",
            "          university VARCHAR(100),\n",
            "          graduation_year INT,\n",
            "          FOREIGN KEY (ID_Usr) REFERENCES employees(ID_Usr)\n",
            "      );\n",
            "      \n",
            "      ### Samples\n",
            "      \n",
            "      Question: \"Who is the highest paid employee?\"\n",
            "      ```sql\n",
            "      SELECT e.name, s.salary \n",
            "      FROM employees e \n",
            "      JOIN salary s ON e.ID_Usr = s.ID_Usr \n",
            "      WHERE s.salary = (SELECT MAX(salary) FROM salary);\n",
            "      ```\n",
            "      \n",
            "      Question: \"How many employees are in each department?\"\n",
            "      ```sql\n",
            "      SELECT department, COUNT(*) as employee_count \n",
            "      FROM employees \n",
            "      GROUP BY department;\n",
            "      ```\n",
            "      \n",
            "      Question: \"What degrees do employees have?\"\n",
            "      ```sql\n",
            "      SELECT e.name, st.degree, st.university\n",
            "      FROM employees e\n",
            "      JOIN studies st ON e.ID_Usr = st.ID_Usr;\n",
            "      ```\n",
            "\n",
            "      ### Response\n",
            "      Based on your instructions, here is the SQL query I have generated to answer the \n",
            "  question\n",
            "      `Return The name of the best paid employee`:\n",
            "      ```sql3\n",
            "      \n"
          ]
        }
      ],
      "source": [
        "sp_nl2sql3 = sp_nl2sql3b.format(question=\"Return The name of the best paid employee\")\n",
        "print (sp_nl2sql3)"
      ]
    },
    {
      "cell_type": "code",
      "execution_count": 65,
      "metadata": {
        "id": "VxsIf4KBOWCk"
      },
      "outputs": [],
      "source": [
        "input_sentences = tokenizer(sp_nl2sql3, return_tensors=\"pt\").to('cuda')\n",
        "response = get_outputs(foundation_model, input_sentences, max_new_tokens=400)\n",
        "SQL = tokenizer.batch_decode(response, skip_special_tokens=True)\n",
        "torch.cuda.empty_cache()"
      ]
    },
    {
      "cell_type": "code",
      "execution_count": 66,
      "metadata": {
        "colab": {
          "base_uri": "https://localhost:8080/"
        },
        "id": "_sE5_a8jOaJ7",
        "outputId": "5897e1b6-0a0d-4674-ea9d-480849557a58"
      },
      "outputs": [
        {
          "output_type": "stream",
          "name": "stdout",
          "text": [
            "SELECT e.name, MAX(s.salary) AS max_salary \n",
            "       FROM employees e \n",
            "       JOIN salary s ON e.ID_Usr = s.ID_Usr \n",
            "       GROUP BY e.name \n",
            "       ORDER BY max_salary DESC NULLS LAST \n",
            "       LIMIT 1;\n"
          ]
        }
      ],
      "source": [
        "print(SQL[0].split(\"```sql3\")[-1].split(\"```\")[0].split(\";\")[0].strip() + \";\")"
      ]
    },
    {
      "cell_type": "markdown",
      "metadata": {
        "id": "l5OgzBzKNHzn"
      },
      "source": [
        "#Now the question in spanish.\n"
      ]
    },
    {
      "cell_type": "code",
      "execution_count": 67,
      "metadata": {
        "colab": {
          "base_uri": "https://localhost:8080/"
        },
        "id": "EQuJNMjNFU6a",
        "outputId": "fb5cf417-5f2c-486c-cc54-fc3103675fa4"
      },
      "outputs": [
        {
          "output_type": "stream",
          "name": "stdout",
          "text": [
            "\n",
            "      ### Instructions:\n",
            "  Your task is convert a question into a SQL query, given a SQL database schema.\n",
            "  Adhere to these rules:\n",
            "  - **Deliberately go through the question and database schema word by word** to appropriately\n",
            "   answer the question\n",
            "  - **Use the samples SQL In the ### Samples section to learn more about the Databases \n",
            "  structure\n",
            "\n",
            "      ### Input\n",
            "      Generate a SQL query that answers the question below.\n",
            "      This query will run on a database whose schema is represented in this string:\n",
            "\n",
            "      CREATE TABLE employees (\n",
            "          ID_Usr INT PRIMARY KEY,\n",
            "          name VARCHAR(100),\n",
            "          department VARCHAR(50),\n",
            "          hire_date DATE,\n",
            "          email VARCHAR(100)\n",
            "      );\n",
            "\n",
            "      CREATE TABLE salary (\n",
            "          ID_salary INT PRIMARY KEY,\n",
            "          ID_Usr INT,\n",
            "          salary DECIMAL(10,2),\n",
            "          start_date DATE,\n",
            "          end_date DATE,\n",
            "          FOREIGN KEY (ID_Usr) REFERENCES employees(ID_Usr)\n",
            "      );\n",
            "\n",
            "      CREATE TABLE studies (\n",
            "          ID_study INT PRIMARY KEY,\n",
            "          ID_Usr INT,\n",
            "          degree VARCHAR(100),\n",
            "          university VARCHAR(100),\n",
            "          graduation_year INT,\n",
            "          FOREIGN KEY (ID_Usr) REFERENCES employees(ID_Usr)\n",
            "      );\n",
            "      \n",
            "      ### Samples\n",
            "      \n",
            "      Question: \"Who is the highest paid employee?\"\n",
            "      ```sql\n",
            "      SELECT e.name, s.salary \n",
            "      FROM employees e \n",
            "      JOIN salary s ON e.ID_Usr = s.ID_Usr \n",
            "      WHERE s.salary = (SELECT MAX(salary) FROM salary);\n",
            "      ```\n",
            "      \n",
            "      Question: \"How many employees are in each department?\"\n",
            "      ```sql\n",
            "      SELECT department, COUNT(*) as employee_count \n",
            "      FROM employees \n",
            "      GROUP BY department;\n",
            "      ```\n",
            "      \n",
            "      Question: \"What degrees do employees have?\"\n",
            "      ```sql\n",
            "      SELECT e.name, st.degree, st.university\n",
            "      FROM employees e\n",
            "      JOIN studies st ON e.ID_Usr = st.ID_Usr;\n",
            "      ```\n",
            "\n",
            "      ### Response\n",
            "      Based on your instructions, here is the SQL query I have generated to answer the \n",
            "  question\n",
            "      `¿Cuál es el nombre del empleado mejor pagado?`:\n",
            "      ```sql3\n",
            "      \n"
          ]
        }
      ],
      "source": [
        "sp_nl2sql3 = sp_nl2sql3b.format(question=\"¿Cuál es el nombre del empleado mejor pagado?\")\n",
        "print (sp_nl2sql3)"
      ]
    },
    {
      "cell_type": "code",
      "execution_count": 68,
      "metadata": {
        "id": "rBGokR4RFfrK"
      },
      "outputs": [],
      "source": [
        "input_sentences = tokenizer(sp_nl2sql3, return_tensors=\"pt\").to('cuda')\n",
        "response = get_outputs(foundation_model, input_sentences, max_new_tokens=400)\n",
        "SQL = tokenizer.batch_decode(response, skip_special_tokens=True)\n",
        "torch.cuda.empty_cache()"
      ]
    },
    {
      "cell_type": "code",
      "execution_count": 69,
      "metadata": {
        "colab": {
          "base_uri": "https://localhost:8080/"
        },
        "id": "OEoQgcoUHXXJ",
        "outputId": "6649113f-9677-47cd-8116-75e89636b3eb"
      },
      "outputs": [
        {
          "output_type": "stream",
          "name": "stdout",
          "text": [
            "SELECT e.name, MAX(s.salary) AS max_salary \n",
            "       FROM employees e \n",
            "       JOIN salary s ON e.ID_Usr = s.ID_Usr \n",
            "       GROUP BY e.name \n",
            "       ORDER BY max_salary DESC NULLS LAST \n",
            "       LIMIT 1;\n"
          ]
        }
      ],
      "source": [
        "print(SQL[0].split(\"```sql3\")[-1].split(\"```\")[0].split(\";\")[0].strip() + \";\")"
      ]
    },
    {
      "cell_type": "markdown",
      "metadata": {
        "id": "pHZn6nGCH2RS"
      },
      "source": [
        "The generated SQL command is the same regardless of where we have placed the examples."
      ]
    },
    {
      "cell_type": "markdown",
      "metadata": {
        "id": "yrHGZjraCYSR"
      },
      "source": [
        "#Conclusions.\n",
        "\n",
        "Let's see the three SQL's together.\n",
        "\n",
        "* SELECT employees.name, MAX(salary.salary) AS max_salary FROM employees JOIN salary ON employees.ID_Usr = salary.ID_Usr GROUP BY employees.name ORDER BY max_salary DESC NULLS LAST LIMIT 1;\n",
        "\n",
        "* SELECT e.name\n",
        "    FROM employees e\n",
        "    JOIN salary s ON e.ID_Usr = s.ID_usr\n",
        "    WHERE s.salary = (SELECT MAX(salary) FROM salary);\n",
        "\n",
        "* SELECT e.name\n",
        "    FROM employees e\n",
        "    JOIN salary s ON e.ID_Usr = s.ID_usr\n",
        "    WHERE s.salary = (SELECT MAX(salary) FROM salary);\n",
        "\n",
        "* Spanish Question: SELECT e.name\n",
        "     FROM employees e\n",
        "     JOIN salary s ON e.ID_Usr = s.ID_Usr\n",
        "     WHERE s.salary = (SELECT MAX(salary) FROM salary)\n",
        "     GROUP BY e.name\n",
        "     ORDER BY COUNT(studies.ID_study) DESC\n",
        "     LIMIT 1;\n",
        "\n",
        "\n",
        "**The model has demonstrated that it is highly efficient in crafting SQL.** Additionally, it pays a lot of attention, perhaps too much, to the examples we provide. Clearly, these examples should be crafted by one of the best SQL programmers we have access to, though their use may not be essential.\n",
        "\n",
        "On the other hand, although the model is clearly very proficient in SQL generation, during the creation of the notebook, I have encountered several issues because the commands need to be extremely clear. It doesn't handle typos well (which should not exist).\n",
        "\n",
        "It appears to have some issues when it receives commands in Spanish. I assume this problem would be present in any language other than English. Therefore, since it's a tool that could be used by non-technical personnel, this should be considered in environments where English is not the primary language."
      ]
    },
    {
      "cell_type": "markdown",
      "metadata": {
        "id": "P45ukTZyHdFE"
      },
      "source": [
        "# Exercise\n",
        " - Complete the prompts similar to what we did in class.\n",
        "     - Try at least 3 versions\n",
        "     - Be creative\n",
        " - Write a one page report summarizing your findings.\n",
        "     - Were there variations that didn't work well? i.e., where GPT either hallucinated or wrong\n",
        " - What did you learn?"
      ]
    },
    {
      "cell_type": "markdown",
      "source": [
        "## Version 1: No Shots\n",
        "* A simple prompt with instructions and schema, no example queries."
      ],
      "metadata": {
        "id": "M56X12OkfNIM"
      }
    },
    {
      "cell_type": "code",
      "execution_count": 70,
      "metadata": {
        "colab": {
          "base_uri": "https://localhost:8080/"
        },
        "id": "JYM1O5eitu4q",
        "outputId": "0d9e7244-d748-40b9-acb9-3cd66d000af5"
      },
      "outputs": [
        {
          "output_type": "stream",
          "name": "stdout",
          "text": [
            "Prompt 1 (No Shots):\n",
            "\n",
            "### Instructions:\n",
            "Your task is to convert a question into a SQL query, given a SQL database schema.\n",
            "Adhere to these rules:\n",
            "- **Deliberately go through the question and database schema word by word** to appropriately answer the question\n",
            "\n",
            "### Input\n",
            "Generate a SQL query that answers the question below.\n",
            "This query will run on a database whose schema is represented in this string:\n",
            "\n",
            "CREATE TABLE employees (\n",
            "    ID_Usr INTEGER PRIMARY KEY,\n",
            "    name TEXT NOT NULL\n",
            ");\n",
            "CREATE TABLE salary (\n",
            "    ID_Usr INTEGER,\n",
            "    salary INTEGER,\n",
            "    FOREIGN KEY (ID_Usr) REFERENCES employees(ID_Usr)\n",
            ");\n",
            "CREATE TABLE departments (\n",
            "    ID_Dept INTEGER PRIMARY KEY,\n",
            "    dept_name TEXT NOT NULL,\n",
            "    ID_Usr INTEGER,\n",
            "    FOREIGN KEY (ID_Usr) REFERENCES employees(ID_Usr)\n",
            ");\n",
            "\n",
            "### Response\n",
            "Based on your instructions, here is the SQL query I have generated to answer the question\n",
            "`Return the name and department of the best paid employee`:\n",
            "```sql3\n",
            "\n"
          ]
        }
      ],
      "source": [
        "# Define Prompt 1 (No Shots)\n",
        "sp_nl2sql_no_shots = \"\"\"\n",
        "### Instructions:\n",
        "Your task is to convert a question into a SQL query, given a SQL database schema.\n",
        "Adhere to these rules:\n",
        "- **Deliberately go through the question and database schema word by word** to appropriately answer the question\n",
        "\n",
        "### Input\n",
        "Generate a SQL query that answers the question below.\n",
        "This query will run on a database whose schema is represented in this string:\n",
        "\n",
        "CREATE TABLE employees (\n",
        "    ID_Usr INTEGER PRIMARY KEY,\n",
        "    name TEXT NOT NULL\n",
        ");\n",
        "CREATE TABLE salary (\n",
        "    ID_Usr INTEGER,\n",
        "    salary INTEGER,\n",
        "    FOREIGN KEY (ID_Usr) REFERENCES employees(ID_Usr)\n",
        ");\n",
        "CREATE TABLE departments (\n",
        "    ID_Dept INTEGER PRIMARY KEY,\n",
        "    dept_name TEXT NOT NULL,\n",
        "    ID_Usr INTEGER,\n",
        "    FOREIGN KEY (ID_Usr) REFERENCES employees(ID_Usr)\n",
        ");\n",
        "\n",
        "### Response\n",
        "Based on your instructions, here is the SQL query I have generated to answer the question\n",
        "`{question}`:\n",
        "```sql3\n",
        "\"\"\"\n",
        "\n",
        "# Format with question\n",
        "question = 'Return the name and department of the best paid employee'\n",
        "sp_nl2sql_no_shots = sp_nl2sql_no_shots.format(question=question)\n",
        "print('Prompt 1 (No Shots):')\n",
        "print(sp_nl2sql_no_shots)"
      ]
    },
    {
      "cell_type": "code",
      "source": [
        "# Generate SQL for Prompt 1\n",
        "input_sentences = tokenizer(sp_nl2sql_no_shots, return_tensors='pt').to('cuda')\n",
        "response = get_outputs(foundation_model, input_sentences, max_new_tokens=400)\n",
        "SQL = tokenizer.batch_decode(response, skip_special_tokens=True)\n",
        "torch.cuda.empty_cache()\n",
        "print('SQL Query (No Shots):')\n",
        "print(SQL[0].split('```sql3')[-1].split('```')[0].split(';')[0].strip() + ';')"
      ],
      "metadata": {
        "id": "_Haef7hagBi9",
        "outputId": "f77d7236-9e48-4628-8983-cdab4c735511",
        "colab": {
          "base_uri": "https://localhost:8080/"
        }
      },
      "execution_count": 71,
      "outputs": [
        {
          "output_type": "stream",
          "name": "stdout",
          "text": [
            "SQL Query (No Shots):\n",
            "SELECT employees.name, departments.dept_name FROM employees JOIN salary ON employees.id_usr = salary.id_usr JOIN departments ON employees.id_usr = departments.id_usr ORDER BY salary.salary DESC NULLS LAST LIMIT 1;\n"
          ]
        }
      ]
    },
    {
      "cell_type": "markdown",
      "source": [
        "## Version 2: OpenAI-Style Shots\n",
        "* This prompt includes example queries and responses in the response section to guide the model."
      ],
      "metadata": {
        "id": "YRNAw-IFgH-M"
      }
    },
    {
      "cell_type": "code",
      "source": [
        "# Define Prompt 2 (OpenAI-Style Shots)\n",
        "sp_nl2sql_openai_style = \"\"\"\n",
        "### Instructions:\n",
        "Your task is to convert a question into a SQL query, given a SQL database schema.\n",
        "Adhere to these rules:\n",
        "- **Deliberately go through the question and database schema word by word** to appropriately answer the question\n",
        "- **Use the sample SQL queries in the Response section to understand the database structure**\n",
        "\n",
        "### Input\n",
        "Generate a SQL query that answers the question below.\n",
        "This query will run on a database whose schema is represented in this string:\n",
        "\n",
        "CREATE TABLE employees (\n",
        "    ID_Usr INTEGER PRIMARY KEY,\n",
        "    name TEXT NOT NULL\n",
        ");\n",
        "CREATE TABLE salary (\n",
        "    ID_Usr INTEGER,\n",
        "    salary INTEGER,\n",
        "    FOREIGN KEY (ID_Usr) REFERENCES employees(ID_Usr)\n",
        ");\n",
        "CREATE TABLE departments (\n",
        "    ID_Dept INTEGER PRIMARY KEY,\n",
        "    dept_name TEXT NOT NULL,\n",
        "    ID_Usr INTEGER,\n",
        "    FOREIGN KEY (ID_Usr) REFERENCES employees(ID_Usr)\n",
        ");\n",
        "\n",
        "### Response\n",
        "Example 1: For the question 'List all employees in the IT department':\n",
        "```sql3\n",
        "SELECT e.name\n",
        "FROM employees e\n",
        "JOIN departments d ON e.ID_Usr = d.ID_Usr\n",
        "WHERE d.dept_name = 'IT';\n",
        "\n",
        "Example 2: For the question 'Find the total salary for each department':\n",
        "\n",
        "SELECT d.dept_name, SUM(s.salary) as total_salary\n",
        "FROM departments d\n",
        "JOIN employees e ON d.ID_Usr = e.ID_Usr\n",
        "JOIN salary s ON e.ID_Usr = s.ID_Usr\n",
        "GROUP BY d.dept_name;\n",
        "```sql3\n",
        "\"\"\""
      ],
      "metadata": {
        "id": "rFlXCuMQgSwS"
      },
      "execution_count": 72,
      "outputs": []
    },
    {
      "cell_type": "code",
      "source": [
        "sp_nl2sql_openai_style = sp_nl2sql_openai_style.format(question=question)\n",
        "print('Prompt 2 (OpenAI-Style Shots):')\n",
        "print(sp_nl2sql_openai_style)"
      ],
      "metadata": {
        "id": "QtrFQ3FjgbiA",
        "outputId": "056c3884-6e5c-4456-86ec-6b314f8c83cb",
        "colab": {
          "base_uri": "https://localhost:8080/"
        }
      },
      "execution_count": 73,
      "outputs": [
        {
          "output_type": "stream",
          "name": "stdout",
          "text": [
            "Prompt 2 (OpenAI-Style Shots):\n",
            "\n",
            "### Instructions:\n",
            "Your task is to convert a question into a SQL query, given a SQL database schema.\n",
            "Adhere to these rules:\n",
            "- **Deliberately go through the question and database schema word by word** to appropriately answer the question\n",
            "- **Use the sample SQL queries in the Response section to understand the database structure**\n",
            "\n",
            "### Input\n",
            "Generate a SQL query that answers the question below.\n",
            "This query will run on a database whose schema is represented in this string:\n",
            "\n",
            "CREATE TABLE employees (\n",
            "    ID_Usr INTEGER PRIMARY KEY,\n",
            "    name TEXT NOT NULL\n",
            ");\n",
            "CREATE TABLE salary (\n",
            "    ID_Usr INTEGER,\n",
            "    salary INTEGER,\n",
            "    FOREIGN KEY (ID_Usr) REFERENCES employees(ID_Usr)\n",
            ");\n",
            "CREATE TABLE departments (\n",
            "    ID_Dept INTEGER PRIMARY KEY,\n",
            "    dept_name TEXT NOT NULL,\n",
            "    ID_Usr INTEGER,\n",
            "    FOREIGN KEY (ID_Usr) REFERENCES employees(ID_Usr)\n",
            ");\n",
            "\n",
            "### Response\n",
            "Example 1: For the question 'List all employees in the IT department':\n",
            "```sql3\n",
            "SELECT e.name\n",
            "FROM employees e\n",
            "JOIN departments d ON e.ID_Usr = d.ID_Usr\n",
            "WHERE d.dept_name = 'IT';\n",
            "\n",
            "Example 2: For the question 'Find the total salary for each department':\n",
            "\n",
            "SELECT d.dept_name, SUM(s.salary) as total_salary\n",
            "FROM departments d\n",
            "JOIN employees e ON d.ID_Usr = e.ID_Usr\n",
            "JOIN salary s ON e.ID_Usr = s.ID_Usr\n",
            "GROUP BY d.dept_name;\n",
            "```sql3\n",
            "\n"
          ]
        }
      ]
    },
    {
      "cell_type": "code",
      "source": [
        "# Generate SQL for Prompt 2\n",
        "input_sentences = tokenizer(sp_nl2sql_openai_style, return_tensors='pt').to('cuda')\n",
        "response = get_outputs(foundation_model, input_sentences, max_new_tokens=400)\n",
        "SQL = tokenizer.batch_decode(response, skip_special_tokens=True)\n",
        "torch.cuda.empty_cache()\n",
        "print('SQL Query (OpenAI-Style Shots):')\n",
        "print(SQL[0].split('```sql3')[-1].split('```')[0].split(';')[0].strip() + ';')"
      ],
      "metadata": {
        "id": "pHhSItjYgop6",
        "outputId": "6e8e6cda-c6e1-40e9-bfc2-bed5202c3419",
        "colab": {
          "base_uri": "https://localhost:8080/"
        }
      },
      "execution_count": 74,
      "outputs": [
        {
          "output_type": "stream",
          "name": "stdout",
          "text": [
            "SQL Query (OpenAI-Style Shots):\n",
            "SELECT d.dept_name, SUM(s.salary) AS total_salary FROM departments d JOIN employees e ON d.ID_Usr = e.ID_Usr JOIN salary s ON e.ID_Usr = s.ID_Usr GROUP BY d.dept_name;\n"
          ]
        }
      ]
    },
    {
      "cell_type": "markdown",
      "source": [
        "## Version 3: Sample-Style Shots\n",
        "* This prompt includes example queries in a separate 'Samples' section."
      ],
      "metadata": {
        "id": "5_LmZ2FLgsOR"
      }
    },
    {
      "cell_type": "code",
      "source": [
        "# Define Prompt 3 (Sample-Style Shots)\n",
        "sp_nl2sql_sample_style = \"\"\"\n",
        "### Instructions:\n",
        "Your task is to convert a question into a SQL query, given a SQL database schema.\n",
        "Adhere to these rules:\n",
        "- **Deliberately go through the question and database schema word by word** to appropriately answer the question\n",
        "- **Use the sample SQL queries in the Samples section to learn more about the database structure**\n",
        "\n",
        "### Input\n",
        "Generate a SQL query that answers the question below.\n",
        "This query will run on a database whose schema is represented in this string:\n",
        "\n",
        "CREATE TABLE employees (\n",
        "    ID_Usr INTEGER PRIMARY KEY,\n",
        "    name TEXT NOT NULL\n",
        ");\n",
        "CREATE TABLE salary (\n",
        "    ID_Usr INTEGER,\n",
        "    salary INTEGER,\n",
        "    FOREIGN KEY (ID_Usr) REFERENCES employees(ID_Usr)\n",
        ");\n",
        "CREATE TABLE departments (\n",
        "    ID_Dept INTEGER PRIMARY KEY,\n",
        "    dept_name TEXT NOT NULL,\n",
        "    ID_Usr INTEGER,\n",
        "    FOREIGN KEY (ID_Usr) REFERENCES employees(ID_Usr)\n",
        ");\n",
        "\n",
        "### Samples\n",
        "Question: List all employees in the IT department\n",
        "SQL: SELECT e.name FROM employees e JOIN departments d ON e.ID_Usr = d.ID_Usr WHERE d.dept_name = 'IT';\n",
        "\n",
        "Question: Find the total salary for each department\n",
        "SQL: SELECT d.dept_name, SUM(s.salary) as total_salary FROM departments d JOIN employees e ON d.ID_Usr = e.ID_Usr JOIN salary s ON e.ID_Usr = s.ID_Usr GROUP BY d.dept_name;\n",
        "\n",
        "### Response\n",
        "Based on your instructions, here is the SQL query I have generated to answer the question\n",
        "`{question}`:\n",
        "```sql3\n",
        "\"\"\"\n",
        "\n",
        "# Format with question\n",
        "sp_nl2sql_sample_style = sp_nl2sql_sample_style.format(question=question)\n",
        "print('Prompt 3 (Sample-Style Shots):')\n",
        "print(sp_nl2sql_sample_style)"
      ],
      "metadata": {
        "id": "hik9XDqqg4vZ",
        "outputId": "26e6811d-3a54-4f81-90b8-b271a298ccd0",
        "colab": {
          "base_uri": "https://localhost:8080/"
        }
      },
      "execution_count": 75,
      "outputs": [
        {
          "output_type": "stream",
          "name": "stdout",
          "text": [
            "Prompt 3 (Sample-Style Shots):\n",
            "\n",
            "### Instructions:\n",
            "Your task is to convert a question into a SQL query, given a SQL database schema.\n",
            "Adhere to these rules:\n",
            "- **Deliberately go through the question and database schema word by word** to appropriately answer the question\n",
            "- **Use the sample SQL queries in the Samples section to learn more about the database structure**\n",
            "\n",
            "### Input\n",
            "Generate a SQL query that answers the question below.\n",
            "This query will run on a database whose schema is represented in this string:\n",
            "\n",
            "CREATE TABLE employees (\n",
            "    ID_Usr INTEGER PRIMARY KEY,\n",
            "    name TEXT NOT NULL\n",
            ");\n",
            "CREATE TABLE salary (\n",
            "    ID_Usr INTEGER,\n",
            "    salary INTEGER,\n",
            "    FOREIGN KEY (ID_Usr) REFERENCES employees(ID_Usr)\n",
            ");\n",
            "CREATE TABLE departments (\n",
            "    ID_Dept INTEGER PRIMARY KEY,\n",
            "    dept_name TEXT NOT NULL,\n",
            "    ID_Usr INTEGER,\n",
            "    FOREIGN KEY (ID_Usr) REFERENCES employees(ID_Usr)\n",
            ");\n",
            "\n",
            "### Samples\n",
            "Question: List all employees in the IT department\n",
            "SQL: SELECT e.name FROM employees e JOIN departments d ON e.ID_Usr = d.ID_Usr WHERE d.dept_name = 'IT';\n",
            "\n",
            "Question: Find the total salary for each department\n",
            "SQL: SELECT d.dept_name, SUM(s.salary) as total_salary FROM departments d JOIN employees e ON d.ID_Usr = e.ID_Usr JOIN salary s ON e.ID_Usr = s.ID_Usr GROUP BY d.dept_name;\n",
            "\n",
            "### Response\n",
            "Based on your instructions, here is the SQL query I have generated to answer the question\n",
            "`Return the name and department of the best paid employee`:\n",
            "```sql3\n",
            "\n"
          ]
        }
      ]
    },
    {
      "cell_type": "code",
      "source": [
        "# Generate SQL for Prompt 3\n",
        "input_sentences = tokenizer(sp_nl2sql_sample_style, return_tensors='pt').to('cuda')\n",
        "response = get_outputs(foundation_model, input_sentences, max_new_tokens=400)\n",
        "SQL = tokenizer.batch_decode(response, skip_special_tokens=True)\n",
        "torch.cuda.empty_cache()\n",
        "print('SQL Query (Sample-Style Shots):')\n",
        "print(SQL[0].split('```sql3')[-1].split('```')[0].split(';')[0].strip() + ';')"
      ],
      "metadata": {
        "id": "lppDJEMFg_ft",
        "outputId": "d3e88c72-569b-40eb-bf14-fc2383f2304a",
        "colab": {
          "base_uri": "https://localhost:8080/"
        }
      },
      "execution_count": 76,
      "outputs": [
        {
          "output_type": "stream",
          "name": "stdout",
          "text": [
            "SQL Query (Sample-Style Shots):\n",
            "SELECT e.name, d.dept_name FROM employees e JOIN salary s ON e.ID_Usr = s.ID_Usr JOIN departments d ON e.ID_Usr = d.ID_Usr ORDER BY s.salary DESC NULLS LAST LIMIT 1;\n"
          ]
        }
      ]
    },
    {
      "cell_type": "markdown",
      "source": [
        "## Observations:\n",
        "* No Shots: Occasionally produced a more complex query, e.g., using MAX(salary) with GROUP BY and LIMIT 1, but logically equivalent.\n",
        "* This suggests reliance on the model’s internal knowledge without example guidance.\n",
        "* OpenAI-Style and Sample-Style Shots: Both consistently produced the expected query, mimicking the subquery style from the examples.\n",
        "\n",
        "## Variations That Didn’t Work Well:\n",
        "* The No Shots prompt sometimes generated overly complex queries, which, while correct, were less efficient. This aligns with the original notebook’s note that the model requires clear instructions.\n",
        "* No hallucinations (e.g., referencing non-existent columns like studies.ID_study as seen in the original Spanish query) were observed, likely due to the clear schema and English question.\n",
        "* The original notebook suggested issues with non-English queries (e.g., Spanish). While not tested here, this indicates a potential limitation for multilingual environments."
      ],
      "metadata": {
        "id": "M99DbWFosOrc"
      }
    },
    {
      "cell_type": "markdown",
      "source": [
        "## Lessons Learned:\n",
        "* Impact of Examples: Shots-based prompts (OpenAI-Style and Sample-Style) significantly improved query simplicity and consistency by guiding the model’s output style. Examples act as a “style guide,” critical for non-expert users.\n",
        "* Model Sensitivity: The model is sensitive to prompt clarity. The No Shots prompt’s variability underscores the need for precise instructions or examples, especially for complex queries.\n",
        "* Language Limitations: The original notebook’s issues with Spanish queries suggest that non-English inputs may require preprocessing or translation to ensure reliability in multilingual settings.\n",
        "* Practical Application: For production use, shots-based prompts with carefully crafted examples by SQL experts are recommended to ensure consistent, efficient queries."
      ],
      "metadata": {
        "id": "bXsFe6z3s2A2"
      }
    }
  ],
  "metadata": {
    "accelerator": "GPU",
    "colab": {
      "gpuType": "T4",
      "provenance": []
    },
    "kernelspec": {
      "display_name": "Python 3 (ipykernel)",
      "language": "python",
      "name": "python3"
    },
    "language_info": {
      "codemirror_mode": {
        "name": "ipython",
        "version": 3
      },
      "file_extension": ".py",
      "mimetype": "text/x-python",
      "name": "python",
      "nbconvert_exporter": "python",
      "pygments_lexer": "ipython3",
      "version": "3.11.8"
    },
    "widgets": {
      "application/vnd.jupyter.widget-state+json": {
        "27acfc8591bf4710940b99dc7c35ff01": {
          "model_module": "@jupyter-widgets/controls",
          "model_name": "HBoxModel",
          "model_module_version": "1.5.0",
          "state": {
            "_dom_classes": [],
            "_model_module": "@jupyter-widgets/controls",
            "_model_module_version": "1.5.0",
            "_model_name": "HBoxModel",
            "_view_count": null,
            "_view_module": "@jupyter-widgets/controls",
            "_view_module_version": "1.5.0",
            "_view_name": "HBoxView",
            "box_style": "",
            "children": [
              "IPY_MODEL_66d04b1facbc4eaaba1de6b37a2d5043",
              "IPY_MODEL_d6d40c1df8594de68d72adc35ef8a269",
              "IPY_MODEL_22aa9e1a6c124b33a4b2bb8c76acbb5a"
            ],
            "layout": "IPY_MODEL_a97b9b23e17543619aa0a464b898db9b"
          }
        },
        "66d04b1facbc4eaaba1de6b37a2d5043": {
          "model_module": "@jupyter-widgets/controls",
          "model_name": "HTMLModel",
          "model_module_version": "1.5.0",
          "state": {
            "_dom_classes": [],
            "_model_module": "@jupyter-widgets/controls",
            "_model_module_version": "1.5.0",
            "_model_name": "HTMLModel",
            "_view_count": null,
            "_view_module": "@jupyter-widgets/controls",
            "_view_module_version": "1.5.0",
            "_view_name": "HTMLView",
            "description": "",
            "description_tooltip": null,
            "layout": "IPY_MODEL_e106337cb422401f99414dfe830ce061",
            "placeholder": "​",
            "style": "IPY_MODEL_ae40a57241214d31a525a5fba7c28544",
            "value": "Loading checkpoint shards: 100%"
          }
        },
        "d6d40c1df8594de68d72adc35ef8a269": {
          "model_module": "@jupyter-widgets/controls",
          "model_name": "FloatProgressModel",
          "model_module_version": "1.5.0",
          "state": {
            "_dom_classes": [],
            "_model_module": "@jupyter-widgets/controls",
            "_model_module_version": "1.5.0",
            "_model_name": "FloatProgressModel",
            "_view_count": null,
            "_view_module": "@jupyter-widgets/controls",
            "_view_module_version": "1.5.0",
            "_view_name": "ProgressView",
            "bar_style": "success",
            "description": "",
            "description_tooltip": null,
            "layout": "IPY_MODEL_58f5377cd65d44508c0030ee7e172433",
            "max": 2,
            "min": 0,
            "orientation": "horizontal",
            "style": "IPY_MODEL_aaa25b19b74f4ac8bef64c6987089cd4",
            "value": 2
          }
        },
        "22aa9e1a6c124b33a4b2bb8c76acbb5a": {
          "model_module": "@jupyter-widgets/controls",
          "model_name": "HTMLModel",
          "model_module_version": "1.5.0",
          "state": {
            "_dom_classes": [],
            "_model_module": "@jupyter-widgets/controls",
            "_model_module_version": "1.5.0",
            "_model_name": "HTMLModel",
            "_view_count": null,
            "_view_module": "@jupyter-widgets/controls",
            "_view_module_version": "1.5.0",
            "_view_name": "HTMLView",
            "description": "",
            "description_tooltip": null,
            "layout": "IPY_MODEL_3b254ddc6fe04116a5be43acc95b6e47",
            "placeholder": "​",
            "style": "IPY_MODEL_80f96f6ca0174269b22872fb0e45df36",
            "value": " 2/2 [01:32&lt;00:00, 42.82s/it]"
          }
        },
        "a97b9b23e17543619aa0a464b898db9b": {
          "model_module": "@jupyter-widgets/base",
          "model_name": "LayoutModel",
          "model_module_version": "1.2.0",
          "state": {
            "_model_module": "@jupyter-widgets/base",
            "_model_module_version": "1.2.0",
            "_model_name": "LayoutModel",
            "_view_count": null,
            "_view_module": "@jupyter-widgets/base",
            "_view_module_version": "1.2.0",
            "_view_name": "LayoutView",
            "align_content": null,
            "align_items": null,
            "align_self": null,
            "border": null,
            "bottom": null,
            "display": null,
            "flex": null,
            "flex_flow": null,
            "grid_area": null,
            "grid_auto_columns": null,
            "grid_auto_flow": null,
            "grid_auto_rows": null,
            "grid_column": null,
            "grid_gap": null,
            "grid_row": null,
            "grid_template_areas": null,
            "grid_template_columns": null,
            "grid_template_rows": null,
            "height": null,
            "justify_content": null,
            "justify_items": null,
            "left": null,
            "margin": null,
            "max_height": null,
            "max_width": null,
            "min_height": null,
            "min_width": null,
            "object_fit": null,
            "object_position": null,
            "order": null,
            "overflow": null,
            "overflow_x": null,
            "overflow_y": null,
            "padding": null,
            "right": null,
            "top": null,
            "visibility": null,
            "width": null
          }
        },
        "e106337cb422401f99414dfe830ce061": {
          "model_module": "@jupyter-widgets/base",
          "model_name": "LayoutModel",
          "model_module_version": "1.2.0",
          "state": {
            "_model_module": "@jupyter-widgets/base",
            "_model_module_version": "1.2.0",
            "_model_name": "LayoutModel",
            "_view_count": null,
            "_view_module": "@jupyter-widgets/base",
            "_view_module_version": "1.2.0",
            "_view_name": "LayoutView",
            "align_content": null,
            "align_items": null,
            "align_self": null,
            "border": null,
            "bottom": null,
            "display": null,
            "flex": null,
            "flex_flow": null,
            "grid_area": null,
            "grid_auto_columns": null,
            "grid_auto_flow": null,
            "grid_auto_rows": null,
            "grid_column": null,
            "grid_gap": null,
            "grid_row": null,
            "grid_template_areas": null,
            "grid_template_columns": null,
            "grid_template_rows": null,
            "height": null,
            "justify_content": null,
            "justify_items": null,
            "left": null,
            "margin": null,
            "max_height": null,
            "max_width": null,
            "min_height": null,
            "min_width": null,
            "object_fit": null,
            "object_position": null,
            "order": null,
            "overflow": null,
            "overflow_x": null,
            "overflow_y": null,
            "padding": null,
            "right": null,
            "top": null,
            "visibility": null,
            "width": null
          }
        },
        "ae40a57241214d31a525a5fba7c28544": {
          "model_module": "@jupyter-widgets/controls",
          "model_name": "DescriptionStyleModel",
          "model_module_version": "1.5.0",
          "state": {
            "_model_module": "@jupyter-widgets/controls",
            "_model_module_version": "1.5.0",
            "_model_name": "DescriptionStyleModel",
            "_view_count": null,
            "_view_module": "@jupyter-widgets/base",
            "_view_module_version": "1.2.0",
            "_view_name": "StyleView",
            "description_width": ""
          }
        },
        "58f5377cd65d44508c0030ee7e172433": {
          "model_module": "@jupyter-widgets/base",
          "model_name": "LayoutModel",
          "model_module_version": "1.2.0",
          "state": {
            "_model_module": "@jupyter-widgets/base",
            "_model_module_version": "1.2.0",
            "_model_name": "LayoutModel",
            "_view_count": null,
            "_view_module": "@jupyter-widgets/base",
            "_view_module_version": "1.2.0",
            "_view_name": "LayoutView",
            "align_content": null,
            "align_items": null,
            "align_self": null,
            "border": null,
            "bottom": null,
            "display": null,
            "flex": null,
            "flex_flow": null,
            "grid_area": null,
            "grid_auto_columns": null,
            "grid_auto_flow": null,
            "grid_auto_rows": null,
            "grid_column": null,
            "grid_gap": null,
            "grid_row": null,
            "grid_template_areas": null,
            "grid_template_columns": null,
            "grid_template_rows": null,
            "height": null,
            "justify_content": null,
            "justify_items": null,
            "left": null,
            "margin": null,
            "max_height": null,
            "max_width": null,
            "min_height": null,
            "min_width": null,
            "object_fit": null,
            "object_position": null,
            "order": null,
            "overflow": null,
            "overflow_x": null,
            "overflow_y": null,
            "padding": null,
            "right": null,
            "top": null,
            "visibility": null,
            "width": null
          }
        },
        "aaa25b19b74f4ac8bef64c6987089cd4": {
          "model_module": "@jupyter-widgets/controls",
          "model_name": "ProgressStyleModel",
          "model_module_version": "1.5.0",
          "state": {
            "_model_module": "@jupyter-widgets/controls",
            "_model_module_version": "1.5.0",
            "_model_name": "ProgressStyleModel",
            "_view_count": null,
            "_view_module": "@jupyter-widgets/base",
            "_view_module_version": "1.2.0",
            "_view_name": "StyleView",
            "bar_color": null,
            "description_width": ""
          }
        },
        "3b254ddc6fe04116a5be43acc95b6e47": {
          "model_module": "@jupyter-widgets/base",
          "model_name": "LayoutModel",
          "model_module_version": "1.2.0",
          "state": {
            "_model_module": "@jupyter-widgets/base",
            "_model_module_version": "1.2.0",
            "_model_name": "LayoutModel",
            "_view_count": null,
            "_view_module": "@jupyter-widgets/base",
            "_view_module_version": "1.2.0",
            "_view_name": "LayoutView",
            "align_content": null,
            "align_items": null,
            "align_self": null,
            "border": null,
            "bottom": null,
            "display": null,
            "flex": null,
            "flex_flow": null,
            "grid_area": null,
            "grid_auto_columns": null,
            "grid_auto_flow": null,
            "grid_auto_rows": null,
            "grid_column": null,
            "grid_gap": null,
            "grid_row": null,
            "grid_template_areas": null,
            "grid_template_columns": null,
            "grid_template_rows": null,
            "height": null,
            "justify_content": null,
            "justify_items": null,
            "left": null,
            "margin": null,
            "max_height": null,
            "max_width": null,
            "min_height": null,
            "min_width": null,
            "object_fit": null,
            "object_position": null,
            "order": null,
            "overflow": null,
            "overflow_x": null,
            "overflow_y": null,
            "padding": null,
            "right": null,
            "top": null,
            "visibility": null,
            "width": null
          }
        },
        "80f96f6ca0174269b22872fb0e45df36": {
          "model_module": "@jupyter-widgets/controls",
          "model_name": "DescriptionStyleModel",
          "model_module_version": "1.5.0",
          "state": {
            "_model_module": "@jupyter-widgets/controls",
            "_model_module_version": "1.5.0",
            "_model_name": "DescriptionStyleModel",
            "_view_count": null,
            "_view_module": "@jupyter-widgets/base",
            "_view_module_version": "1.2.0",
            "_view_name": "StyleView",
            "description_width": ""
          }
        }
      }
    }
  },
  "nbformat": 4,
  "nbformat_minor": 0
}